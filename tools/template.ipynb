{
 "cells": [
  {
   "cell_type": "markdown",
   "metadata": {},
   "source": [
    "### Import PySpark\n",
    "Nogle få kommentarer:\n",
    " - Download spark pre-built for hadoop 2.6, jeg vil også anbefale jer at bruge spark 1.6.0 da der er nogle problemer med 1.6.1 [hent den her http://www.apache.org/dyn/closer.lua/spark/spark-1.6.0/spark-1.6.0-bin-hadoop2.6.tgz]\n",
    " - husk at ændre paths i denne notebook\n",
    " - `os.environ[\"PYSPARK_SUBMIT_ARGS\"] = \"--packages com.databricks:spark-avro_2.10:2.0.1 pyspark-shell\"` vil give jer mulighed for direkte at loade avro filer"
   ]
  },
  {
   "cell_type": "code",
   "execution_count": 1,
   "metadata": {
    "collapsed": false
   },
   "outputs": [],
   "source": [
    "import sys\n",
    "import os\n",
    "import os.path\n",
    "\n",
    "SPARK_HOME = \"\"\"spark-1.6.0-bin-hadoop2.6/\"\"\" ## PATH TO SPARK\n",
    "\n",
    "sys.path.append(os.path.join(SPARK_HOME, \"python\", \"lib\", \"py4j-0.9-src.zip\"))\n",
    "sys.path.append(os.path.join(SPARK_HOME, \"python\", \"lib\", \"pyspark.zip\"))\n",
    "os.environ[\"SPARK_HOME\"] = SPARK_HOME\n",
    "os.environ[\"PYSPARK_SUBMIT_ARGS\"] = \"--packages com.databricks:spark-avro_2.10:2.0.1 pyspark-shell\"\n",
    "\n",
    "from pyspark import SparkConf, SparkContext, StorageLevel\n",
    "from pyspark.sql import SQLContext\n",
    "\n",
    "conf = (SparkConf()\n",
    "         .setMaster(\"local[*]\")\n",
    "         .setAppName(\"My app\"))\n",
    "sc = SparkContext(conf = conf)\n",
    "sqlContext = SQLContext(sc)"
   ]
  },
  {
   "cell_type": "code",
   "execution_count": 2,
   "metadata": {
    "collapsed": false
   },
   "outputs": [],
   "source": [
    "# load data to dataframe\n",
    "df = (sqlContext.read.format(\"com.databricks.spark.avro\")\n",
    "      .load(\"data/201512/*.avro\")\n",
    "      )"
   ]
  },
  {
   "cell_type": "code",
   "execution_count": 3,
   "metadata": {
    "collapsed": false
   },
   "outputs": [
    {
     "name": "stdout",
     "output_type": "stream",
     "text": [
      "root\n",
      " |-- timestamp_seen: long (nullable = false)\n",
      " |-- id: string (nullable = false)\n",
      " |-- useruuid: string (nullable = false)\n",
      " |-- start_time: string (nullable = false)\n",
      " |-- end_time: string (nullable = false)\n",
      " |-- name: string (nullable = false)\n",
      " |-- area: string (nullable = false)\n",
      " |-- country: string (nullable = false)\n",
      " |-- region: string (nullable = false)\n",
      " |-- latitude: double (nullable = false)\n",
      " |-- longitude: double (nullable = false)\n",
      " |-- altitude: integer (nullable = false)\n",
      " |-- accuracy: integer (nullable = false)\n",
      " |-- datum: string (nullable = false)\n",
      " |-- devices: array (nullable = false)\n",
      " |    |-- element: struct (containsNull = false)\n",
      " |    |    |-- name: string (nullable = false)\n",
      " |    |    |-- type: string (nullable = false)\n",
      " |    |    |-- id: string (nullable = false)\n",
      "\n"
     ]
    }
   ],
   "source": [
    "# I kan se strukturen på data her\n",
    "df.printSchema()"
   ]
  },
  {
   "cell_type": "code",
   "execution_count": 4,
   "metadata": {
    "collapsed": false
   },
   "outputs": [
    {
     "name": "stdout",
     "output_type": "stream",
     "text": [
      "+--------------+--------------------+--------------------+--------------------+--------------------+--------------------+-------------+-------+------+-----------------+------------------+--------+--------+-----+--------------------+\n",
      "|timestamp_seen|                  id|            useruuid|          start_time|            end_time|                name|         area|country|region|         latitude|         longitude|altitude|accuracy|datum|             devices|\n",
      "+--------------+--------------------+--------------------+--------------------+--------------------+--------------------+-------------+-------+------+-----------------+------------------+--------+--------+-----+--------------------+\n",
      "| 1449555713263|fd16a2d9-810a-43c...|b81264f3-511d-45a...|2015-12-08T07:03:...|2015-12-08T07:07:...|                Bjuv|        Skane| Sweden|Europe|56.10314760312085|12.866914578182298|       0|   26000|WGS84|[[E5823,PHONE,ad6...|\n",
      "| 1449555723641|1129abd4-cadc-449...|694237c5-cd52-45c...|2015-12-08T06:19:...|2015-12-08T06:39:...|Pilczyce-Kozanów-...|Lower Silesia| Poland|Europe|       51.1276229|        16.9650174|       0|   45000|WGS84|[[Phone Unknown,P...|\n",
      "| 1449555723641|500f64a6-3684-485...|694237c5-cd52-45c...|2015-12-08T06:41:...|2015-12-08T06:42:...|Gądów-Popowice Po...|Lower Silesia| Poland|Europe|51.12784434327251|16.964202000000014|  197000|   26000|WGS84|[[E6853,PHONE,382...|\n",
      "| 1449555723641|6026f85f-24f8-459...|694237c5-cd52-45c...|2015-12-08T06:42:...|2015-12-08T06:42:...|Gądów-Popowice Po...|Lower Silesia| Poland|Europe|       51.1282974|        16.9649391|  158000|   10000|WGS84|[[E6853,PHONE,382...|\n",
      "| 1449555723641|d24b0c43-b9c1-4c9...|694237c5-cd52-45c...|2015-12-08T06:43:...|2015-12-08T06:43:...|Pilczyce-Kozanów-...|Lower Silesia| Poland|Europe|       51.1295009|        16.9653929|  160000|    7000|WGS84|[[E6853,PHONE,382...|\n",
      "| 1449555723641|35c59d4f-a32e-49a...|694237c5-cd52-45c...|2015-12-08T06:43:...|2015-12-08T06:43:...|Pilczyce-Kozanów-...|Lower Silesia| Poland|Europe|       51.1305524|        16.9665242|  158000|    3900|WGS84|[[E6853,PHONE,382...|\n",
      "| 1449555723641|30f92dc2-e1e4-461...|694237c5-cd52-45c...|2015-12-08T06:44:...|2015-12-08T06:47:...|Pilczyce-Kozanów-...|Lower Silesia| Poland|Europe|51.13042669862728|16.966716692006518|  162000|    3900|WGS84|[[E6853,PHONE,382...|\n",
      "| 1449555723641|6af8567b-efbf-48c...|694237c5-cd52-45c...|2015-12-08T06:47:...|2015-12-08T06:47:...|Pilczyce-Kozanów-...|Lower Silesia| Poland|Europe|       51.1302101|        16.9683413|  160000|    3900|WGS84|[[E6853,PHONE,382...|\n",
      "| 1449555723641|de2e0883-3813-4f1...|694237c5-cd52-45c...|2015-12-08T06:48:...|2015-12-08T06:48:...|Pilczyce-Kozanów-...|Lower Silesia| Poland|Europe|       51.1294792|        16.9708191|  162000|    3900|WGS84|[[E6853,PHONE,382...|\n",
      "| 1449555723641|4c852cd9-8ff4-41b...|694237c5-cd52-45c...|2015-12-08T06:48:...|2015-12-08T06:48:...|Pilczyce-Kozanów-...|Lower Silesia| Poland|Europe|       51.1287206|        16.9730355|  163000|    4000|WGS84|[[E6853,PHONE,382...|\n",
      "+--------------+--------------------+--------------------+--------------------+--------------------+--------------------+-------------+-------+------+-----------------+------------------+--------+--------+-----+--------------------+\n",
      "only showing top 10 rows\n",
      "\n"
     ]
    }
   ],
   "source": [
    "# kig på data\n",
    "df.show(10)"
   ]
  },
  {
   "cell_type": "code",
   "execution_count": 5,
   "metadata": {
    "collapsed": true
   },
   "outputs": [],
   "source": [
    "# transform til rdd\n",
    "data = df.rdd"
   ]
  },
  {
   "cell_type": "code",
   "execution_count": 13,
   "metadata": {
    "collapsed": false
   },
   "outputs": [
    {
     "data": {
      "text/plain": [
       "687718"
      ]
     },
     "execution_count": 13,
     "metadata": {},
     "output_type": "execute_result"
    }
   ],
   "source": [
    "data.count()"
   ]
  },
  {
   "cell_type": "code",
   "execution_count": 9,
   "metadata": {
    "collapsed": true
   },
   "outputs": [],
   "source": [
    "#more imports\n",
    "from DatabaseHelper import DatabaseHelper\n",
    "from dateutil import parser\n",
    "\n",
    "db = DatabaseHelper()\n",
    "\n",
    "first_period_min_date = parser.parse(\"2015-12-01 00:00:00+00:00\")\n",
    "first_period_max_date = parser.parse(\"2015-12-31 23:59:59+00:00\")\n",
    "second_period_min_date = parser.parse(\"2016-01-01 00:00:00+00:00\")\n",
    "second_period_max_date = parser.parse(\"2016-01-31 23:59:59+00:00\")\n",
    "third_period_min_date = parser.parse(\"2016-02-01 00:00:00+00:00\")\n",
    "third_period_max_date = parser.parse(\"2016-02-29 23:59:59+00:00\")\n"
   ]
  },
  {
   "cell_type": "code",
   "execution_count": 79,
   "metadata": {
    "collapsed": false
   },
   "outputs": [],
   "source": [
    "#filtering\n",
    "swe_data = data.filter(lambda row: \"Sweden\" in row[\"country\"]).filter(lambda row: parser.parse(row[\"start_time\"]) >= first_period_min_date\n",
    "                           and parser.parse(row[\"end_time\"]) <= third_period_max_date)\n",
    "# conversion\n",
    "def convert_time_and_spatial(row):\n",
    "    return [((db.calculate_spatial_bin(row[\"longitude\"], row[\"latitude\"]),x),[row[\"useruuid\"]]) for x in db.calculate_time_bins(row[\"start_time\"], row[\"end_time\"])]\n",
    "\n",
    "swe_data = swe_data.flatMap(convert_time_and_spatial)\n"
   ]
  },
  {
   "cell_type": "code",
   "execution_count": 75,
   "metadata": {
    "collapsed": false
   },
   "outputs": [
    {
     "data": {
      "text/plain": [
       "[((26211433141, 2969), ['7b14a8b4-2ad3-428c-9ad8-78cfc08acebb']),\n",
       " ((26229613171, 3401), ['4b19bbd7-0df5-4ae8-929d-ef3eae78fdb8']),\n",
       " ((26241493238, 3384), ['a221e5b4-ce58-49ba-9385-6b544cc8a5ae']),\n",
       " ((26227453209, 3165), ['dc40af5f-8da4-47c6-932b-3ec87264d2a4']),\n",
       " ((26299453911, 2973), ['7f544a83-f358-452c-a864-81097d33decb']),\n",
       " ((26884097946, 3212), ['2e427198-5b42-4d1b-b7fe-76972e8c0dbc']),\n",
       " ((26307373766, 3230),\n",
       "  ['761e6458-78f8-43ca-b941-8cfd36d3ef61',\n",
       "   '761e6458-78f8-43ca-b941-8cfd36d3ef61']),\n",
       " ((26213953222, 2868),\n",
       "  ['b3be75b8-6c9a-40d0-a9f9-fb74848fb7aa',\n",
       "   'b3be75b8-6c9a-40d0-a9f9-fb74848fb7aa',\n",
       "   'b3be75b8-6c9a-40d0-a9f9-fb74848fb7aa']),\n",
       " ((26238072958, 3258), ['fd80f0df-702a-46d3-b2a4-f237c5ae7cbf']),\n",
       " ((26209093023, 2947), ['ee933feb-fa30-4ca2-89c1-5d40a74ee345']),\n",
       " ((26216113097, 2803), ['c6309812-9802-4b93-8e5d-14b5eb738438']),\n",
       " ((26287214275, 3323),\n",
       "  ['9a9b1ef8-c48b-4105-b4fe-ab04acd3d0ee',\n",
       "   '9a9b1ef8-c48b-4105-b4fe-ab04acd3d0ee',\n",
       "   '9a9b1ef8-c48b-4105-b4fe-ab04acd3d0ee',\n",
       "   '9a9b1ef8-c48b-4105-b4fe-ab04acd3d0ee',\n",
       "   '9a9b1ef8-c48b-4105-b4fe-ab04acd3d0ee',\n",
       "   '9a9b1ef8-c48b-4105-b4fe-ab04acd3d0ee']),\n",
       " ((26206752999, 3069),\n",
       "  ['a2de6a1d-ac00-4f48-b062-b66cb05f9544',\n",
       "   'a2de6a1d-ac00-4f48-b062-b66cb05f9544',\n",
       "   'a2de6a1d-ac00-4f48-b062-b66cb05f9544']),\n",
       " ((26204412976, 3422), ['dffcd105-5c2e-41ed-848f-a20495571642']),\n",
       " ((26224393244, 2984), ['ee7cfaf0-873e-4a83-8b0c-3b09c020e2e1']),\n",
       " ((26230333133, 2993), ['e44552c6-897c-4f2d-bb6c-9c4a469e9b74']),\n",
       " ((26745676187, 3397), ['426af308-6b28-4afb-bfb0-e51722b614a8']),\n",
       " ((26348414197, 3301), ['d5a6b8e9-8ae5-4e9d-94d5-2c1865ad2e44']),\n",
       " ((26236272906, 3258),\n",
       "  ['fd80f0df-702a-46d3-b2a4-f237c5ae7cbf',\n",
       "   'fd80f0df-702a-46d3-b2a4-f237c5ae7cbf',\n",
       "   'fd80f0df-702a-46d3-b2a4-f237c5ae7cbf']),\n",
       " ((26263093603, 3015),\n",
       "  ['b3124440-b2f8-4add-9e67-ad6adf4ec501',\n",
       "   'b3124440-b2f8-4add-9e67-ad6adf4ec501',\n",
       "   'b3124440-b2f8-4add-9e67-ad6adf4ec501']),\n",
       " ((26231233211, 3327), ['d704335b-5f7a-4cd9-9822-2fb4d525f3ea']),\n",
       " ((26229613211, 3421), ['3ee183a4-919a-4c67-bf84-6f196897a906']),\n",
       " ((26208733065, 3257),\n",
       "  ['b992b237-e563-48d7-b958-2b3e16620846',\n",
       "   'b992b237-e563-48d7-b958-2b3e16620846']),\n",
       " ((26208552997, 3317), ['2da955b3-7997-4827-b35f-dfe10c01632c']),\n",
       " ((26269574299, 3453),\n",
       "  ['7abf68f8-29fd-49e6-9ff2-38c2da8e701e',\n",
       "   '7abf68f8-29fd-49e6-9ff2-38c2da8e701e',\n",
       "   '7abf68f8-29fd-49e6-9ff2-38c2da8e701e']),\n",
       " ((26226553193, 2971),\n",
       "  ['aa360897-b5ab-431e-afc2-8bcbc7f484a6',\n",
       "   'aa360897-b5ab-431e-afc2-8bcbc7f484a6',\n",
       "   'aa360897-b5ab-431e-afc2-8bcbc7f484a6',\n",
       "   'aa360897-b5ab-431e-afc2-8bcbc7f484a6',\n",
       "   'aa360897-b5ab-431e-afc2-8bcbc7f484a6',\n",
       "   'aa360897-b5ab-431e-afc2-8bcbc7f484a6',\n",
       "   'aa360897-b5ab-431e-afc2-8bcbc7f484a6']),\n",
       " ((26375414963, 3057), ['fe9005b4-f2a1-49da-8ed8-ad5db623603c']),\n",
       " ((26208553116, 3088), ['0bddb0ed-ce9a-4df3-9720-416bcfb678ea']),\n",
       " ((26208552976, 2846),\n",
       "  ['81b7214c-d25c-4256-b98b-8059de88fb77',\n",
       "   '81b7214c-d25c-4256-b98b-8059de88fb77',\n",
       "   '81b7214c-d25c-4256-b98b-8059de88fb77']),\n",
       " ((26285774032, 3476),\n",
       "  ['4e3d24a8-1a1e-488d-867c-5e8129929f98',\n",
       "   '4e3d24a8-1a1e-488d-867c-5e8129929f98']),\n",
       " ((26435713950, 3448), ['b81264f3-511d-45a3-a5a9-53020e4e439a']),\n",
       " ((26229433199, 2879),\n",
       "  ['e4aa0ce6-7dbb-4177-b469-31d61f4db8e5',\n",
       "   'e4aa0ce6-7dbb-4177-b469-31d61f4db8e5']),\n",
       " ((26209453019, 3023), ['0bddb0ed-ce9a-4df3-9720-416bcfb678ea']),\n",
       " ((26217913097, 3375), ['484d9db5-fa6a-4d33-afb3-ee3fd2b358c2']),\n",
       " ((26202793095, 3205), ['fd80f0df-702a-46d3-b2a4-f237c5ae7cbf']),\n",
       " ((26212153064, 3090), ['eb74b587-37e7-48ef-990b-ca60bae7a02a']),\n",
       " ((26199733000, 3420), ['64975a94-e4e7-4eea-b174-0a54185acd74']),\n",
       " ((26226553176, 3084), ['dc40af5f-8da4-47c6-932b-3ec87264d2a4']),\n",
       " ((26412852834, 3374), ['d704335b-5f7a-4cd9-9822-2fb4d525f3ea']),\n",
       " ((26207292991, 3421), ['63e8787f-d29f-481a-a06d-66a9ca3d12f1']),\n",
       " ((27203413233, 3473), ['d3cebea8-50bb-4616-8cba-8a8acd6fead3']),\n",
       " ((26199732926, 3104),\n",
       "  ['e2215ac7-2be2-45f6-ae6e-149f89a8e7f2',\n",
       "   'e2215ac7-2be2-45f6-ae6e-149f89a8e7f2',\n",
       "   'e2215ac7-2be2-45f6-ae6e-149f89a8e7f2']),\n",
       " ((26209272995, 2871),\n",
       "  ['aa360897-b5ab-431e-afc2-8bcbc7f484a6',\n",
       "   'aa360897-b5ab-431e-afc2-8bcbc7f484a6',\n",
       "   'b96cacf1-99e7-4863-9ce5-cebee66adaab',\n",
       "   'b96cacf1-99e7-4863-9ce5-cebee66adaab']),\n",
       " ((26283434060, 2946), ['4e3d24a8-1a1e-488d-867c-5e8129929f98']),\n",
       " ((26238432990, 3400), ['17110d9c-093b-41de-b536-46a601df8786']),\n",
       " ((26226193187, 3161), ['8afe6fcd-b9b2-43bc-b0fb-b016628ce462']),\n",
       " ((26363354689, 3353),\n",
       "  ['fe9005b4-f2a1-49da-8ed8-ad5db623603c',\n",
       "   'fe9005b4-f2a1-49da-8ed8-ad5db623603c',\n",
       "   'fe9005b4-f2a1-49da-8ed8-ad5db623603c',\n",
       "   'fe9005b4-f2a1-49da-8ed8-ad5db623603c',\n",
       "   'fe9005b4-f2a1-49da-8ed8-ad5db623603c']),\n",
       " ((26296392758, 2870), ['17110d9c-093b-41de-b536-46a601df8786']),\n",
       " ((26238433133, 2745),\n",
       "  ['484d9db5-fa6a-4d33-afb3-ee3fd2b358c2',\n",
       "   'f4f32177-8c2c-418d-834c-0cde35f40cee']),\n",
       " ((26229433225, 2825),\n",
       "  ['e1fa02ad-4d6d-4def-86a2-1ade8c59ee8e',\n",
       "   'e1fa02ad-4d6d-4def-86a2-1ade8c59ee8e',\n",
       "   '21c884ed-d9b4-481e-ac94-29cf77bfd344',\n",
       "   '4b19bbd7-0df5-4ae8-929d-ef3eae78fdb8',\n",
       "   '81b7214c-d25c-4256-b98b-8059de88fb77',\n",
       "   '81b7214c-d25c-4256-b98b-8059de88fb77',\n",
       "   '81b7214c-d25c-4256-b98b-8059de88fb77',\n",
       "   '761e6458-78f8-43ca-b941-8cfd36d3ef61',\n",
       "   '48292fe8-5d65-47f6-8c73-c23aa7030e03',\n",
       "   'cc38817a-eb2c-448d-9194-595e210543f4',\n",
       "   'cc38817a-eb2c-448d-9194-595e210543f4',\n",
       "   'cc38817a-eb2c-448d-9194-595e210543f4',\n",
       "   '484d9db5-fa6a-4d33-afb3-ee3fd2b358c2',\n",
       "   '484d9db5-fa6a-4d33-afb3-ee3fd2b358c2',\n",
       "   'd5430d80-4aba-4b5c-836d-a486c8c4e332',\n",
       "   'd5430d80-4aba-4b5c-836d-a486c8c4e332',\n",
       "   'f3755a15-1606-4456-aa04-baab448cc9a6',\n",
       "   'f3755a15-1606-4456-aa04-baab448cc9a6',\n",
       "   'b96cacf1-99e7-4863-9ce5-cebee66adaab',\n",
       "   '2f5ebf38-a48b-4fad-b158-9ff58c913f07',\n",
       "   '3084b64d-e773-4daa-aeea-cc3b069594f3',\n",
       "   '3084b64d-e773-4daa-aeea-cc3b069594f3',\n",
       "   'f3755a15-1606-4456-aa04-baab448cc9a6',\n",
       "   '6c71df2e-54cb-489e-b110-8bb3234cfa0e',\n",
       "   'f2311db1-1a39-4f6f-b48f-4cc2e5d4ec9d',\n",
       "   'e1fa02ad-4d6d-4def-86a2-1ade8c59ee8e',\n",
       "   'e1fa02ad-4d6d-4def-86a2-1ade8c59ee8e',\n",
       "   '7f544a83-f358-452c-a864-81097d33decb',\n",
       "   'cc38817a-eb2c-448d-9194-595e210543f4',\n",
       "   'cc38817a-eb2c-448d-9194-595e210543f4',\n",
       "   'b96cacf1-99e7-4863-9ce5-cebee66adaab',\n",
       "   'd6e5fa22-27dd-47cb-acbe-eae33d029ae3']),\n",
       " ((26205132969, 3113), ['2e427198-5b42-4d1b-b7fe-76972e8c0dbc']),\n",
       " ((26228713423, 3011), ['e1fa02ad-4d6d-4def-86a2-1ade8c59ee8e']),\n",
       " ((26209633006, 3142), ['caa61f1d-1279-4920-9011-826eeb84a221']),\n",
       " ((26202252980, 2912), ['dffcd105-5c2e-41ed-848f-a20495571642']),\n",
       " ((26400972865, 2873), ['abde9755-9b38-4813-aac1-529f75447017']),\n",
       " ((26325912889, 3323), ['a2de6a1d-ac00-4f48-b062-b66cb05f9544']),\n",
       " ((26359394686, 3280), ['fe9005b4-f2a1-49da-8ed8-ad5db623603c']),\n",
       " ((26207113005, 3475),\n",
       "  ['c6309812-9802-4b93-8e5d-14b5eb738438',\n",
       "   '9ad3eec3-ab95-4bf6-8968-75f20f8428a7',\n",
       "   '9ad3eec3-ab95-4bf6-8968-75f20f8428a7',\n",
       "   '9ad3eec3-ab95-4bf6-8968-75f20f8428a7']),\n",
       " ((26207473001, 3447),\n",
       "  ['aa360897-b5ab-431e-afc2-8bcbc7f484a6',\n",
       "   'aa360897-b5ab-431e-afc2-8bcbc7f484a6']),\n",
       " ((26447413981, 3247), ['6c71df2e-54cb-489e-b110-8bb3234cfa0e']),\n",
       " ((26216833200, 3250), ['69ec2cda-31a5-49d1-9f66-8b71889fd4b2']),\n",
       " ((26415374924, 3106), ['fe9005b4-f2a1-49da-8ed8-ad5db623603c']),\n",
       " ((26873298079, 3421), ['9f0fb74a-465a-4b42-b7dd-797eefa275fd']),\n",
       " ((26176873852, 3230),\n",
       "  ['fd80f0df-702a-46d3-b2a4-f237c5ae7cbf',\n",
       "   'fd80f0df-702a-46d3-b2a4-f237c5ae7cbf']),\n",
       " ((26214853210, 3184),\n",
       "  ['f3755a15-1606-4456-aa04-baab448cc9a6',\n",
       "   'f3755a15-1606-4456-aa04-baab448cc9a6']),\n",
       " ((26294232728, 3420), ['b81264f3-511d-45a3-a5a9-53020e4e439a']),\n",
       " ((26229253228, 3162), ['4b19bbd7-0df5-4ae8-929d-ef3eae78fdb8']),\n",
       " ((26206932983, 3233), ['d3cebea8-50bb-4616-8cba-8a8acd6fead3']),\n",
       " ((26230333203, 2875), ['3084b64d-e773-4daa-aeea-cc3b069594f3']),\n",
       " ((26244372959, 3089), ['9935ae0d-b9a1-405b-9509-9847cd072abf']),\n",
       " ((26226013224, 3326), ['01aa963c-889e-4bad-8637-d2c55551657a']),\n",
       " ((26215033215, 3237), ['f3755a15-1606-4456-aa04-baab448cc9a6']),\n",
       " ((26308273766, 3234), ['07208966-5a07-4d3c-8992-80673bc26382']),\n",
       " ((26208013008, 3038), ['543036c6-93ab-40a6-9668-20a70d021cdf']),\n",
       " ((26241673237, 3377),\n",
       "  ['a221e5b4-ce58-49ba-9385-6b544cc8a5ae',\n",
       "   'a221e5b4-ce58-49ba-9385-6b544cc8a5ae']),\n",
       " ((26198653012, 3378), ['4ed45839-d8a7-40df-9c93-2554201f62ca']),\n",
       " ((26875998068, 3026),\n",
       "  ['7f8116c9-f76c-4bbb-a9bb-9c711e2572bf',\n",
       "   '7f8116c9-f76c-4bbb-a9bb-9c711e2572bf']),\n",
       " ((26286132753, 3327), ['9935ae0d-b9a1-405b-9509-9847cd072abf']),\n",
       " ((26295672690, 3178),\n",
       "  ['a0e91405-da1d-4cb5-9a80-b48a14989383',\n",
       "   'a0e91405-da1d-4cb5-9a80-b48a14989383']),\n",
       " ((26213053078, 3092), ['caa61f1d-1279-4920-9011-826eeb84a221']),\n",
       " ((26966893508, 3324), ['eb74b587-37e7-48ef-990b-ca60bae7a02a']),\n",
       " ((26308273759, 3079), ['761e6458-78f8-43ca-b941-8cfd36d3ef61']),\n",
       " ((26316015389, 2747), ['b1db5813-54da-46ae-b5d8-6f76ba4375a2']),\n",
       " ((26228173243, 3263), ['41fd40b0-711d-4ec6-864a-efcf595bde91']),\n",
       " ((26209993017, 3443), ['fd90f2c4-1284-4b8f-b5f6-df9c67e2d653']),\n",
       " ((26233573176, 3274), ['484d9db5-fa6a-4d33-afb3-ee3fd2b358c2']),\n",
       " ((26249233544, 2942), ['4e3d24a8-1a1e-488d-867c-5e8129929f98']),\n",
       " ((26291712718, 3258), ['a0e91405-da1d-4cb5-9a80-b48a14989383']),\n",
       " ((26277312782, 3424), ['a0e91405-da1d-4cb5-9a80-b48a14989383']),\n",
       " ((26229253226, 3418),\n",
       "  ['ea6efcd3-6383-4ae4-a366-9f88a4aa0b8b',\n",
       "   'ea6efcd3-6383-4ae4-a366-9f88a4aa0b8b',\n",
       "   '484d9db5-fa6a-4d33-afb3-ee3fd2b358c2',\n",
       "   'ea6efcd3-6383-4ae4-a366-9f88a4aa0b8b']),\n",
       " ((26193972997, 3041), ['dab64f44-a503-4a63-997c-6da988e364d9']),\n",
       " ((26238252992, 3328),\n",
       "  ['17110d9c-093b-41de-b536-46a601df8786',\n",
       "   '17110d9c-093b-41de-b536-46a601df8786']),\n",
       " ((26227273213, 3377),\n",
       "  ['aa360897-b5ab-431e-afc2-8bcbc7f484a6',\n",
       "   'aa360897-b5ab-431e-afc2-8bcbc7f484a6']),\n",
       " ((26176693846, 3226), ['fd80f0df-702a-46d3-b2a4-f237c5ae7cbf']),\n",
       " ((26225113217, 3065),\n",
       "  ['f47d4e6b-2c78-44c4-8897-1cd19604fec1',\n",
       "   'f47d4e6b-2c78-44c4-8897-1cd19604fec1',\n",
       "   'f47d4e6b-2c78-44c4-8897-1cd19604fec1',\n",
       "   'f47d4e6b-2c78-44c4-8897-1cd19604fec1']),\n",
       " ((26209093022, 3106),\n",
       "  ['ea464e4b-98f1-42c0-b5d4-0d39a448d434',\n",
       "   '91e5b9dc-b987-4fc8-9f3c-0c54ff522b23']),\n",
       " ((26209633013, 2867),\n",
       "  ['ab65c6e5-5ee9-45d0-a352-a52c7ef9d9d6',\n",
       "   'ab65c6e5-5ee9-45d0-a352-a52c7ef9d9d6',\n",
       "   'ab65c6e5-5ee9-45d0-a352-a52c7ef9d9d6']),\n",
       " ((26212693057, 2893), ['9b3edd01-b821-40c9-9f75-10cb32aa14b6']),\n",
       " ((26228173212, 2748),\n",
       "  ['071c08fe-3fe2-49c6-ac1f-21f93cd1a87b',\n",
       "   '071c08fe-3fe2-49c6-ac1f-21f93cd1a87b']),\n",
       " ((26228353194, 3090), ['7a749f71-6ccc-45bd-b4a2-782d3eb995ba'])]"
      ]
     },
     "execution_count": 75,
     "metadata": {},
     "output_type": "execute_result"
    }
   ],
   "source": [
    "swe_data = swe_data.reduceByKey(lambda a, b: a+b)\n",
    "swe_data.take(100)"
   ]
  },
  {
   "cell_type": "code",
   "execution_count": null,
   "metadata": {
    "collapsed": true
   },
   "outputs": [],
   "source": []
  },
  {
   "cell_type": "code",
   "execution_count": null,
   "metadata": {
    "collapsed": true
   },
   "outputs": [],
   "source": []
  }
 ],
 "metadata": {
  "kernelspec": {
   "display_name": "Python 3",
   "language": "python",
   "name": "python3"
  },
  "language_info": {
   "codemirror_mode": {
    "name": "ipython",
    "version": 3
   },
   "file_extension": ".py",
   "mimetype": "text/x-python",
   "name": "python",
   "nbconvert_exporter": "python",
   "pygments_lexer": "ipython3",
   "version": "3.5.1"
  }
 },
 "nbformat": 4,
 "nbformat_minor": 0
}
