{
 "cells": [
  {
   "cell_type": "markdown",
   "metadata": {},
   "source": [
    "### Import PySpark\n",
    "Nogle få kommentarer:\n",
    " - Download spark pre-built for hadoop 2.6, jeg vil også anbefale jer at bruge spark 1.6.0 da der er nogle problemer med 1.6.1 [hent den her http://www.apache.org/dyn/closer.lua/spark/spark-1.6.0/spark-1.6.0-bin-hadoop2.6.tgz]\n",
    " - husk at ændre paths i denne notebook\n",
    " - `os.environ[\"PYSPARK_SUBMIT_ARGS\"] = \"--packages com.databricks:spark-avro_2.10:2.0.1 pyspark-shell\"` vil give jer mulighed for direkte at loade avro filer"
   ]
  },
  {
   "cell_type": "code",
   "execution_count": 1,
   "metadata": {
    "collapsed": false
   },
   "outputs": [],
   "source": [
    "import sys\n",
    "import os\n",
    "import os.path\n",
    "\n",
    "SPARK_HOME = \"\"\"spark-1.6.0-bin-hadoop2.6/\"\"\" ## PATH TO SPARK\n",
    "\n",
    "sys.path.append(os.path.join(SPARK_HOME, \"python\", \"lib\", \"py4j-0.9-src.zip\"))\n",
    "sys.path.append(os.path.join(SPARK_HOME, \"python\", \"lib\", \"pyspark.zip\"))\n",
    "os.environ[\"SPARK_HOME\"] = SPARK_HOME\n",
    "os.environ[\"PYSPARK_SUBMIT_ARGS\"] = \"--packages com.databricks:spark-avro_2.10:2.0.1 pyspark-shell\"\n",
    "\n",
    "from pyspark import SparkConf, SparkContext, StorageLevel\n",
    "from pyspark.sql import SQLContext\n",
    "\n",
    "conf = (SparkConf()\n",
    "         .setMaster(\"local[*]\")\n",
    "         .setAppName(\"My app\"))\n",
    "sc = SparkContext(conf = conf)\n",
    "sqlContext = SQLContext(sc)"
   ]
  },
  {
   "cell_type": "code",
   "execution_count": 2,
   "metadata": {
    "collapsed": false
   },
   "outputs": [],
   "source": [
    "# load data to dataframe\n",
    "df = (sqlContext.read.format(\"com.databricks.spark.avro\")\n",
    "      .load(\"data/201512/*.avro\")\n",
    "      )"
   ]
  },
  {
   "cell_type": "code",
   "execution_count": 3,
   "metadata": {
    "collapsed": false
   },
   "outputs": [
    {
     "name": "stdout",
     "output_type": "stream",
     "text": [
      "root\n",
      " |-- timestamp_seen: long (nullable = false)\n",
      " |-- id: string (nullable = false)\n",
      " |-- useruuid: string (nullable = false)\n",
      " |-- start_time: string (nullable = false)\n",
      " |-- end_time: string (nullable = false)\n",
      " |-- name: string (nullable = false)\n",
      " |-- area: string (nullable = false)\n",
      " |-- country: string (nullable = false)\n",
      " |-- region: string (nullable = false)\n",
      " |-- latitude: double (nullable = false)\n",
      " |-- longitude: double (nullable = false)\n",
      " |-- altitude: integer (nullable = false)\n",
      " |-- accuracy: integer (nullable = false)\n",
      " |-- datum: string (nullable = false)\n",
      " |-- devices: array (nullable = false)\n",
      " |    |-- element: struct (containsNull = false)\n",
      " |    |    |-- name: string (nullable = false)\n",
      " |    |    |-- type: string (nullable = false)\n",
      " |    |    |-- id: string (nullable = false)\n",
      "\n"
     ]
    }
   ],
   "source": [
    "# I kan se strukturen på data her\n",
    "df.printSchema()"
   ]
  },
  {
   "cell_type": "code",
   "execution_count": 4,
   "metadata": {
    "collapsed": false
   },
   "outputs": [
    {
     "name": "stdout",
     "output_type": "stream",
     "text": [
      "+--------------+--------------------+--------------------+--------------------+--------------------+--------------------+-------------+-------+------+-----------------+------------------+--------+--------+-----+--------------------+\n",
      "|timestamp_seen|                  id|            useruuid|          start_time|            end_time|                name|         area|country|region|         latitude|         longitude|altitude|accuracy|datum|             devices|\n",
      "+--------------+--------------------+--------------------+--------------------+--------------------+--------------------+-------------+-------+------+-----------------+------------------+--------+--------+-----+--------------------+\n",
      "| 1449555713263|fd16a2d9-810a-43c...|b81264f3-511d-45a...|2015-12-08T07:03:...|2015-12-08T07:07:...|                Bjuv|        Skane| Sweden|Europe|56.10314760312085|12.866914578182298|       0|   26000|WGS84|[[E5823,PHONE,ad6...|\n",
      "| 1449555723641|1129abd4-cadc-449...|694237c5-cd52-45c...|2015-12-08T06:19:...|2015-12-08T06:39:...|Pilczyce-Kozanów-...|Lower Silesia| Poland|Europe|       51.1276229|        16.9650174|       0|   45000|WGS84|[[Phone Unknown,P...|\n",
      "| 1449555723641|500f64a6-3684-485...|694237c5-cd52-45c...|2015-12-08T06:41:...|2015-12-08T06:42:...|Gądów-Popowice Po...|Lower Silesia| Poland|Europe|51.12784434327251|16.964202000000014|  197000|   26000|WGS84|[[E6853,PHONE,382...|\n",
      "| 1449555723641|6026f85f-24f8-459...|694237c5-cd52-45c...|2015-12-08T06:42:...|2015-12-08T06:42:...|Gądów-Popowice Po...|Lower Silesia| Poland|Europe|       51.1282974|        16.9649391|  158000|   10000|WGS84|[[E6853,PHONE,382...|\n",
      "| 1449555723641|d24b0c43-b9c1-4c9...|694237c5-cd52-45c...|2015-12-08T06:43:...|2015-12-08T06:43:...|Pilczyce-Kozanów-...|Lower Silesia| Poland|Europe|       51.1295009|        16.9653929|  160000|    7000|WGS84|[[E6853,PHONE,382...|\n",
      "| 1449555723641|35c59d4f-a32e-49a...|694237c5-cd52-45c...|2015-12-08T06:43:...|2015-12-08T06:43:...|Pilczyce-Kozanów-...|Lower Silesia| Poland|Europe|       51.1305524|        16.9665242|  158000|    3900|WGS84|[[E6853,PHONE,382...|\n",
      "| 1449555723641|30f92dc2-e1e4-461...|694237c5-cd52-45c...|2015-12-08T06:44:...|2015-12-08T06:47:...|Pilczyce-Kozanów-...|Lower Silesia| Poland|Europe|51.13042669862728|16.966716692006518|  162000|    3900|WGS84|[[E6853,PHONE,382...|\n",
      "| 1449555723641|6af8567b-efbf-48c...|694237c5-cd52-45c...|2015-12-08T06:47:...|2015-12-08T06:47:...|Pilczyce-Kozanów-...|Lower Silesia| Poland|Europe|       51.1302101|        16.9683413|  160000|    3900|WGS84|[[E6853,PHONE,382...|\n",
      "| 1449555723641|de2e0883-3813-4f1...|694237c5-cd52-45c...|2015-12-08T06:48:...|2015-12-08T06:48:...|Pilczyce-Kozanów-...|Lower Silesia| Poland|Europe|       51.1294792|        16.9708191|  162000|    3900|WGS84|[[E6853,PHONE,382...|\n",
      "| 1449555723641|4c852cd9-8ff4-41b...|694237c5-cd52-45c...|2015-12-08T06:48:...|2015-12-08T06:48:...|Pilczyce-Kozanów-...|Lower Silesia| Poland|Europe|       51.1287206|        16.9730355|  163000|    4000|WGS84|[[E6853,PHONE,382...|\n",
      "+--------------+--------------------+--------------------+--------------------+--------------------+--------------------+-------------+-------+------+-----------------+------------------+--------+--------+-----+--------------------+\n",
      "only showing top 10 rows\n",
      "\n"
     ]
    }
   ],
   "source": [
    "# kig på data\n",
    "df.show(10)"
   ]
  },
  {
   "cell_type": "code",
   "execution_count": 5,
   "metadata": {
    "collapsed": true
   },
   "outputs": [],
   "source": [
    "# transform til rdd\n",
    "data = df.rdd"
   ]
  },
  {
   "cell_type": "code",
   "execution_count": 6,
   "metadata": {
    "collapsed": false
   },
   "outputs": [
    {
     "data": {
      "text/plain": [
       "687718"
      ]
     },
     "execution_count": 6,
     "metadata": {},
     "output_type": "execute_result"
    }
   ],
   "source": [
    "data.count()"
   ]
  },
  {
   "cell_type": "code",
   "execution_count": 7,
   "metadata": {
    "collapsed": true
   },
   "outputs": [],
   "source": [
    "#more imports\n",
    "from DatabaseHelper import DatabaseHelper\n",
    "from dateutil import parser\n",
    "\n",
    "db = DatabaseHelper()\n",
    "\n",
    "first_period_min_date = parser.parse(\"2015-12-01 00:00:00+00:00\")\n",
    "first_period_max_date = parser.parse(\"2015-12-31 23:59:59+00:00\")\n",
    "second_period_min_date = parser.parse(\"2016-01-01 00:00:00+00:00\")\n",
    "second_period_max_date = parser.parse(\"2016-01-31 23:59:59+00:00\")\n",
    "third_period_min_date = parser.parse(\"2016-02-01 00:00:00+00:00\")\n",
    "third_period_max_date = parser.parse(\"2016-02-29 23:59:59+00:00\")\n"
   ]
  },
  {
   "cell_type": "code",
   "execution_count": 8,
   "metadata": {
    "collapsed": false
   },
   "outputs": [],
   "source": [
    "#filtering\n",
    "swe_data = data.filter(lambda row: \"Sweden\" in row[\"country\"]).filter(lambda row: parser.parse(row[\"start_time\"]) >= first_period_min_date\n",
    "                           and parser.parse(row[\"end_time\"]) <= third_period_max_date)\n",
    "\n",
    "# conversion\n",
    "def convert_time_and_spatial(row):\n",
    "    return [((db.calculate_spatial_bin(row[\"longitude\"], row[\"latitude\"]),x),[row[\"useruuid\"]]) for x in db.calculate_time_bins(row[\"start_time\"], row[\"end_time\"])]\n",
    "\n",
    "swe_data = swe_data.flatMap(convert_time_and_spatial)\n",
    "# remove duplicates\n",
    "swe_data = swe_data.reduceByKey(lambda a, b: a+b if b[0] not in a else a)"
   ]
  },
  {
   "cell_type": "code",
   "execution_count": 9,
   "metadata": {
    "collapsed": false
   },
   "outputs": [
    {
     "data": {
      "text/plain": [
       "[((26211433141, 2969), ['7b14a8b4-2ad3-428c-9ad8-78cfc08acebb']),\n",
       " ((26229613171, 3401), ['4b19bbd7-0df5-4ae8-929d-ef3eae78fdb8']),\n",
       " ((26241493238, 3384), ['a221e5b4-ce58-49ba-9385-6b544cc8a5ae']),\n",
       " ((26227453209, 3165), ['dc40af5f-8da4-47c6-932b-3ec87264d2a4']),\n",
       " ((26299453911, 2973), ['7f544a83-f358-452c-a864-81097d33decb']),\n",
       " ((26884097946, 3212), ['2e427198-5b42-4d1b-b7fe-76972e8c0dbc']),\n",
       " ((26307373766, 3230), ['761e6458-78f8-43ca-b941-8cfd36d3ef61']),\n",
       " ((26213953222, 2868), ['b3be75b8-6c9a-40d0-a9f9-fb74848fb7aa']),\n",
       " ((26238072958, 3258), ['fd80f0df-702a-46d3-b2a4-f237c5ae7cbf']),\n",
       " ((26209093023, 2947), ['ee933feb-fa30-4ca2-89c1-5d40a74ee345'])]"
      ]
     },
     "execution_count": 9,
     "metadata": {},
     "output_type": "execute_result"
    }
   ],
   "source": [
    "swe_data.take(10)"
   ]
  },
  {
   "cell_type": "code",
   "execution_count": null,
   "metadata": {
    "collapsed": true
   },
   "outputs": [],
   "source": []
  },
  {
   "cell_type": "code",
   "execution_count": null,
   "metadata": {
    "collapsed": true
   },
   "outputs": [],
   "source": []
  }
 ],
 "metadata": {
  "kernelspec": {
   "display_name": "Python 3",
   "language": "python",
   "name": "python3"
  },
  "language_info": {
   "codemirror_mode": {
    "name": "ipython",
    "version": 3
   },
   "file_extension": ".py",
   "mimetype": "text/x-python",
   "name": "python",
   "nbconvert_exporter": "python",
   "pygments_lexer": "ipython3",
   "version": "3.5.1"
  }
 },
 "nbformat": 4,
 "nbformat_minor": 0
}
