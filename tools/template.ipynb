{
 "cells": [
  {
   "cell_type": "markdown",
   "metadata": {},
   "source": [
    "### Import PySpark\n",
    "Nogle få kommentarer:\n",
    " - Download spark pre-built for hadoop 2.6, jeg vil også anbefale jer at bruge spark 1.6.0 da der er nogle problemer med 1.6.1 [hent den her http://www.apache.org/dyn/closer.lua/spark/spark-1.6.0/spark-1.6.0-bin-hadoop2.6.tgz]\n",
    " - husk at ændre paths i denne notebook\n",
    " - `os.environ[\"PYSPARK_SUBMIT_ARGS\"] = \"--packages com.databricks:spark-avro_2.10:2.0.1 pyspark-shell\"` vil give jer mulighed for direkte at loade avro filer"
   ]
  },
  {
   "cell_type": "code",
   "execution_count": 1,
   "metadata": {
    "collapsed": false
   },
   "outputs": [],
   "source": [
    "import sys\n",
    "import os\n",
    "import os.path\n",
    "\n",
    "SPARK_HOME = \"\"\"spark-1.6.0-bin-hadoop2.6/\"\"\" ## PATH TO SPARK\n",
    "\n",
    "sys.path.append(os.path.join(SPARK_HOME, \"python\", \"lib\", \"py4j-0.9-src.zip\"))\n",
    "sys.path.append(os.path.join(SPARK_HOME, \"python\", \"lib\", \"pyspark.zip\"))\n",
    "os.environ[\"SPARK_HOME\"] = SPARK_HOME\n",
    "os.environ[\"PYSPARK_SUBMIT_ARGS\"] = \"--packages com.databricks:spark-avro_2.10:2.0.1 pyspark-shell\"\n",
    "\n",
    "from pyspark import SparkConf, SparkContext, StorageLevel\n",
    "from pyspark.sql import SQLContext\n",
    "\n",
    "conf = (SparkConf()\n",
    "         .setMaster(\"local[*]\")\n",
    "         .setAppName(\"My app\"))\n",
    "sc = SparkContext(conf = conf)\n",
    "sqlContext = SQLContext(sc)"
   ]
  },
  {
   "cell_type": "code",
   "execution_count": 2,
   "metadata": {
    "collapsed": false
   },
   "outputs": [],
   "source": [
    "# load data to dataframe\n",
    "df = (sqlContext.read.format(\"com.databricks.spark.avro\")\n",
    "      .load(\"data/201512/*.avro\")\n",
    "      )"
   ]
  },
  {
   "cell_type": "code",
   "execution_count": 3,
   "metadata": {
    "collapsed": false
   },
   "outputs": [
    {
     "name": "stdout",
     "output_type": "stream",
     "text": [
      "root\n",
      " |-- timestamp_seen: long (nullable = false)\n",
      " |-- id: string (nullable = false)\n",
      " |-- useruuid: string (nullable = false)\n",
      " |-- start_time: string (nullable = false)\n",
      " |-- end_time: string (nullable = false)\n",
      " |-- name: string (nullable = false)\n",
      " |-- area: string (nullable = false)\n",
      " |-- country: string (nullable = false)\n",
      " |-- region: string (nullable = false)\n",
      " |-- latitude: double (nullable = false)\n",
      " |-- longitude: double (nullable = false)\n",
      " |-- altitude: integer (nullable = false)\n",
      " |-- accuracy: integer (nullable = false)\n",
      " |-- datum: string (nullable = false)\n",
      " |-- devices: array (nullable = false)\n",
      " |    |-- element: struct (containsNull = false)\n",
      " |    |    |-- name: string (nullable = false)\n",
      " |    |    |-- type: string (nullable = false)\n",
      " |    |    |-- id: string (nullable = false)\n",
      "\n"
     ]
    }
   ],
   "source": [
    "# I kan se strukturen på data her\n",
    "df.printSchema()"
   ]
  },
  {
   "cell_type": "code",
   "execution_count": 4,
   "metadata": {
    "collapsed": false
   },
   "outputs": [
    {
     "name": "stdout",
     "output_type": "stream",
     "text": [
      "+--------------+--------------------+--------------------+--------------------+--------------------+------------+-----+-------+------+-----------------+------------------+--------+--------+-----+--------------------+\n",
      "|timestamp_seen|                  id|            useruuid|          start_time|            end_time|        name| area|country|region|         latitude|         longitude|altitude|accuracy|datum|             devices|\n",
      "+--------------+--------------------+--------------------+--------------------+--------------------+------------+-----+-------+------+-----------------+------------------+--------+--------+-----+--------------------+\n",
      "| 1448989426233|f1f7caba-c371-428...|ab65c6e5-5ee9-45d...|2015-12-01T18:03:...|2015-12-01T18:03:...|       Malmo|Skane| Sweden|Europe|       55.6032658|        13.0185448|   12000|   31000|WGS84|[[E5823,PHONE,61c...|\n",
      "| 1448989426517|2b8f652c-cd71-4f6...|4e3d24a8-1a1e-488...|2015-12-01T16:18:...|2015-12-01T16:18:...|          Va|Skane| Sweden|Europe|       56.0119293|        14.0947999|       0|   27000|WGS84|[[E5823,PHONE,b2d...|\n",
      "| 1448989426517|873e9b54-2a62-412...|4e3d24a8-1a1e-488...|2015-12-01T16:19:...|2015-12-01T16:19:...|Kristianstad|Skane| Sweden|Europe|       56.0106975|        14.0952387|   55000|    6000|WGS84|[[E5823,PHONE,b2d...|\n",
      "| 1448989426517|e00be0bd-d425-46d...|4e3d24a8-1a1e-488...|2015-12-01T16:21:...|2015-12-01T16:21:...|          Va|Skane| Sweden|Europe|        56.012907|        14.0718016|   48000|    7000|WGS84|[[E5823,PHONE,b2d...|\n",
      "| 1448989426517|7fabfcef-4bfc-493...|4e3d24a8-1a1e-488...|2015-12-01T16:22:...|2015-12-01T16:22:...|    Onnestad|Skane| Sweden|Europe|       56.0165642|        14.0625525|       0|   37500|WGS84|[[E5823,PHONE,b2d...|\n",
      "| 1448989426517|0ecdafb7-bf80-439...|4e3d24a8-1a1e-488...|2015-12-01T16:23:...|2015-12-01T16:23:...|    Onnestad|Skane| Sweden|Europe|       56.0251593|        14.0541123|   44000|   19000|WGS84|[[E5823,PHONE,b2d...|\n",
      "| 1448989426517|a855f257-c995-44a...|4e3d24a8-1a1e-488...|2015-12-01T16:26:...|2015-12-01T16:26:...|    Onnestad|Skane| Sweden|Europe|        56.028226|        14.0423049|       0|   40500|WGS84|[[E5823,PHONE,b2d...|\n",
      "| 1448989426517|aeabbf08-c353-408...|4e3d24a8-1a1e-488...|2015-12-01T16:27:...|2015-12-01T16:56:...|    Onnestad|Skane| Sweden|Europe| 56.0318545353292| 14.03232539901589|  134000|   39000|WGS84|[[E5823,PHONE,b2d...|\n",
      "| 1448989428447|aeabbf08-c353-408...|4e3d24a8-1a1e-488...|2015-12-01T16:27:...|2015-12-01T17:06:...|    Onnestad|Skane| Sweden|Europe| 56.0318545353292| 14.03232539901589|  134000|   39000|WGS84|[[Phone Unknown,P...|\n",
      "| 1448989428447|af9712b8-e812-464...|4e3d24a8-1a1e-488...|2015-12-01T17:31:...|2015-12-01T17:32:...|    Onnestad|Skane| Sweden|Europe|56.03166075150519|14.032636286385555|  111000|   30000|WGS84|[[E5823,PHONE,b2d...|\n",
      "+--------------+--------------------+--------------------+--------------------+--------------------+------------+-----+-------+------+-----------------+------------------+--------+--------+-----+--------------------+\n",
      "only showing top 10 rows\n",
      "\n"
     ]
    }
   ],
   "source": [
    "# kig på data\n",
    "df.show(10)"
   ]
  },
  {
   "cell_type": "code",
   "execution_count": 5,
   "metadata": {
    "collapsed": true
   },
   "outputs": [],
   "source": [
    "# transform til rdd\n",
    "data = df.rdd"
   ]
  },
  {
   "cell_type": "code",
   "execution_count": 6,
   "metadata": {
    "collapsed": false
   },
   "outputs": [
    {
     "data": {
      "text/plain": [
       "687718"
      ]
     },
     "execution_count": 6,
     "metadata": {},
     "output_type": "execute_result"
    }
   ],
   "source": [
    "data.count()"
   ]
  },
  {
   "cell_type": "code",
   "execution_count": 7,
   "metadata": {
    "collapsed": true
   },
   "outputs": [],
   "source": [
    "#more imports\n",
    "from DatabaseHelper import DatabaseHelper\n",
    "from dateutil import parser\n",
    "\n",
    "db = DatabaseHelper()\n",
    "\n",
    "first_period_min_date = parser.parse(\"2015-12-01 00:00:00+00:00\")\n",
    "first_period_max_date = parser.parse(\"2015-12-31 23:59:59+00:00\")\n",
    "second_period_min_date = parser.parse(\"2016-01-01 00:00:00+00:00\")\n",
    "second_period_max_date = parser.parse(\"2016-01-31 23:59:59+00:00\")\n",
    "third_period_min_date = parser.parse(\"2016-02-01 00:00:00+00:00\")\n",
    "third_period_max_date = parser.parse(\"2016-02-29 23:59:59+00:00\")\n"
   ]
  },
  {
   "cell_type": "code",
   "execution_count": 8,
   "metadata": {
    "collapsed": false
   },
   "outputs": [],
   "source": [
    "#filtering\n",
    "swe_data = data.filter(lambda row: \"Sweden\" in row[\"country\"]).filter(lambda row: parser.parse(row[\"start_time\"]) >= first_period_min_date\n",
    "                           and parser.parse(row[\"end_time\"]) <= third_period_max_date)\n",
    "\n",
    "# convert to ((spatial, time)[useruuid]) rows\n",
    "def convert_time_and_spatial(row):\n",
    "    return [((db.calculate_spatial_bin(row[\"longitude\"], row[\"latitude\"]),x),[row[\"useruuid\"]]) for x in db.calculate_time_bins(row[\"start_time\"], row[\"end_time\"])]\n",
    "\n",
    "swe_data = swe_data.flatMap(convert_time_and_spatial)\n",
    "# remove duplicates\n",
    "swe_data = swe_data.reduceByKey(lambda a, b: a+b if b[0] not in a else a)"
   ]
  },
  {
   "cell_type": "code",
   "execution_count": 9,
   "metadata": {
    "collapsed": false
   },
   "outputs": [
    {
     "data": {
      "text/plain": [
       "[((26227453209, 3165), ['dc40af5f-8da4-47c6-932b-3ec87264d2a4']),\n",
       " ((26209993017, 3443), ['fd90f2c4-1284-4b8f-b5f6-df9c67e2d653']),\n",
       " ((26295672690, 3178), ['a0e91405-da1d-4cb5-9a80-b48a14989383']),\n",
       " ((26241493238, 3384), ['a221e5b4-ce58-49ba-9385-6b544cc8a5ae']),\n",
       " ((26211433141, 2969), ['7b14a8b4-2ad3-428c-9ad8-78cfc08acebb']),\n",
       " ((26199733000, 3420), ['64975a94-e4e7-4eea-b174-0a54185acd74']),\n",
       " ((26884097946, 3212), ['2e427198-5b42-4d1b-b7fe-76972e8c0dbc']),\n",
       " ((26307373766, 3230), ['761e6458-78f8-43ca-b941-8cfd36d3ef61']),\n",
       " ((26213953222, 2868), ['b3be75b8-6c9a-40d0-a9f9-fb74848fb7aa']),\n",
       " ((26209093023, 2947), ['ee933feb-fa30-4ca2-89c1-5d40a74ee345'])]"
      ]
     },
     "execution_count": 9,
     "metadata": {},
     "output_type": "execute_result"
    }
   ],
   "source": [
    "swe_data.take(10)"
   ]
  },
  {
   "cell_type": "code",
   "execution_count": 12,
   "metadata": {
    "collapsed": false
   },
   "outputs": [],
   "source": [
    "first_period_min_bin = db.calculate_time_bins(\"2015-12-01 00:00:00+00:00\")\n",
    "first_period_max_bin = db.calculate_time_bins(\"2015-12-31 23:59:59+00:00\")\n",
    "second_period_min_bin = db.calculate_time_bins(\"2016-01-01 00:00:00+00:00\")\n",
    "second_period_max_bin = db.calculate_time_bins(\"2016-01-31 23:59:59+00:00\")\n",
    "third_period_min_bin = db.calculate_time_bins(\"2016-02-01 00:00:00+00:00\")\n",
    "third_period_max_bin = db.calculate_time_bins(\"2016-02-29 23:59:59+00:00\")\n",
    "\n",
    "period_1_data = swe_data.filter(lambda row: row[0][0] >= db.calculate_time_bins(first_period_min_date)\n",
    "                                and row[0][0] < first_period_max_date)\n",
    "period_2_data = swe_data.filter(lambda row: row[0][0] >= first_period_min_date\n",
    "                                and row[0][0] < first_period_max_date)\n",
    "period_2_data = swe_data.filter(lambda row: row[0][0] >= first_period_min_date\n",
    "                                and row[0][0] < first_period_max_date)"
   ]
  },
  {
   "cell_type": "code",
   "execution_count": null,
   "metadata": {
    "collapsed": true
   },
   "outputs": [],
   "source": []
  }
 ],
 "metadata": {
  "kernelspec": {
   "display_name": "Python 3",
   "language": "python",
   "name": "python3"
  },
  "language_info": {
   "codemirror_mode": {
    "name": "ipython",
    "version": 3
   },
   "file_extension": ".py",
   "mimetype": "text/x-python",
   "name": "python",
   "nbconvert_exporter": "python",
   "pygments_lexer": "ipython3",
   "version": "3.5.1"
  }
 },
 "nbformat": 4,
 "nbformat_minor": 0
}
